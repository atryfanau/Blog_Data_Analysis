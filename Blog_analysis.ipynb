{
 "cells": [
  {
   "cell_type": "code",
   "execution_count": 2,
   "metadata": {
    "scrolled": true
   },
   "outputs": [],
   "source": [
    "from csv import reader\n",
    "open_file = open('hacker_news.csv')\n",
    "read_file = reader(open_file)\n",
    "hn = list(read_file)\n",
    "headers = hn[0]\n",
    "hn = hn[1:]"
   ]
  },
  {
   "cell_type": "code",
   "execution_count": 3,
   "metadata": {},
   "outputs": [
    {
     "name": "stdout",
     "output_type": "stream",
     "text": [
      "1744\n",
      "1162\n",
      "17194\n"
     ]
    }
   ],
   "source": [
    "ask_posts = []\n",
    "show_posts = []\n",
    "other_posts = []\n",
    "for row in hn:\n",
    "    title = row[1]\n",
    "    if title.lower().startswith('ask hn') is True:\n",
    "        ask_posts.append(row)\n",
    "    elif title.lower().startswith('show hn') is True:\n",
    "        show_posts.append(row)\n",
    "    else:\n",
    "        other_posts.append(row)\n",
    "print(len(ask_posts))\n",
    "print(len(show_posts))\n",
    "print(len(other_posts))"
   ]
  },
  {
   "cell_type": "code",
   "execution_count": 4,
   "metadata": {},
   "outputs": [
    {
     "name": "stdout",
     "output_type": "stream",
     "text": [
      "14.038417431192661\n"
     ]
    }
   ],
   "source": [
    "total_ask_comments = 0\n",
    "for row in ask_posts:\n",
    "    num_com = row[4]\n",
    "    num_com = int(num_com)\n",
    "    total_ask_comments += num_com\n",
    "avg_ask_comments = total_ask_comments / len(ask_posts)\n",
    "print(avg_ask_comments)"
   ]
  },
  {
   "cell_type": "code",
   "execution_count": 5,
   "metadata": {},
   "outputs": [
    {
     "name": "stdout",
     "output_type": "stream",
     "text": [
      "10.31669535283993\n"
     ]
    }
   ],
   "source": [
    "total_show_comments = 0\n",
    "for row in show_posts:\n",
    "    num_com = row[4]\n",
    "    num_com = int(num_com)\n",
    "    total_show_comments += num_com\n",
    "avg_show_comments = total_show_comments / len(show_posts)\n",
    "print(avg_show_comments)"
   ]
  },
  {
   "cell_type": "code",
   "execution_count": 6,
   "metadata": {
    "collapsed": true
   },
   "outputs": [],
   "source": [
    "#We can see that ask posts have more comments on average"
   ]
  },
  {
   "cell_type": "code",
   "execution_count": 7,
   "metadata": {
    "collapsed": true
   },
   "outputs": [],
   "source": [
    "import datetime as dt"
   ]
  },
  {
   "cell_type": "code",
   "execution_count": 17,
   "metadata": {},
   "outputs": [
    {
     "name": "stdout",
     "output_type": "stream",
     "text": [
      "[['8/16/2016 9:55', 6], ['11/22/2015 13:43', 29], ['5/2/2016 10:14', 1], ['8/2/2016 14:20', 3], ['10/15/2015 16:38', 17]]\n"
     ]
    }
   ],
   "source": [
    "result_list = []\n",
    "for row in ask_posts:\n",
    "    cr_at = row[6]\n",
    "    num_post = row[4]\n",
    "    num_post = int(num_post)\n",
    "    result_list.append([cr_at, num_post])\n",
    "print(result_list[:5])\n"
   ]
  },
  {
   "cell_type": "code",
   "execution_count": 18,
   "metadata": {},
   "outputs": [
    {
     "name": "stdout",
     "output_type": "stream",
     "text": [
      "{'23': 68, '06': 44, '13': 85, '10': 59, '14': 107, '00': 55, '01': 60, '21': 109, '05': 46, '17': 100, '02': 58, '18': 109, '04': 47, '12': 73, '22': 71, '19': 110, '20': 80, '09': 45, '03': 54, '11': 58, '15': 116, '08': 48, '16': 108, '07': 34}\n",
      "{'23': 543, '06': 397, '13': 1253, '10': 793, '14': 1416, '00': 447, '01': 683, '21': 1745, '05': 464, '17': 1146, '02': 1381, '18': 1439, '04': 337, '12': 687, '22': 479, '19': 1188, '20': 1722, '09': 251, '03': 421, '11': 641, '15': 4477, '08': 492, '16': 1814, '07': 267}\n"
     ]
    }
   ],
   "source": [
    "counts_by_hour = {}\n",
    "comments_by_hour = {}\n",
    "for row in result_list:\n",
    "    data = row[0]\n",
    "    comment = row[1]\n",
    "    data_p = dt.datetime.strptime(data, '%m/%d/%Y %H:%M')\n",
    "    data_p = data_p.strftime('%H')\n",
    "    if data_p not in counts_by_hour:\n",
    "        counts_by_hour[data_p] = 1\n",
    "        comments_by_hour[data_p] = comment\n",
    "    else:\n",
    "        counts_by_hour[data_p] += 1\n",
    "        comments_by_hour[data_p] += comment\n",
    "print(counts_by_hour)\n",
    "print(comments_by_hour)"
   ]
  },
  {
   "cell_type": "code",
   "execution_count": 29,
   "metadata": {},
   "outputs": [
    {
     "name": "stdout",
     "output_type": "stream",
     "text": [
      "[['23', 7.985294117647059], ['06', 9.022727272727273], ['13', 14.741176470588234], ['10', 13.440677966101696], ['14', 13.233644859813085], ['00', 8.127272727272727], ['01', 11.383333333333333], ['21', 16.009174311926607], ['05', 10.08695652173913], ['17', 11.46], ['02', 23.810344827586206], ['18', 13.20183486238532], ['04', 7.170212765957447], ['12', 9.41095890410959], ['22', 6.746478873239437], ['19', 10.8], ['20', 21.525], ['09', 5.5777777777777775], ['03', 7.796296296296297], ['11', 11.051724137931034], ['15', 38.5948275862069], ['08', 10.25], ['16', 16.796296296296298], ['07', 7.852941176470588]]\n"
     ]
    }
   ],
   "source": [
    "avg_by_hour = []\n",
    "for counts in counts_by_hour:\n",
    "    for comments in comments_by_hour:\n",
    "        if counts == comments:\n",
    "            avg_by_hour.append([counts, comments_by_hour[comments]/counts_by_hour[counts]])\n",
    "        else:\n",
    "            continue\n",
    "print(avg_by_hour)\n",
    "    \n"
   ]
  },
  {
   "cell_type": "code",
   "execution_count": 31,
   "metadata": {},
   "outputs": [
    {
     "name": "stdout",
     "output_type": "stream",
     "text": [
      "Top 5 Hours for Ask Posts Comments\n",
      "15:00: 38.59 average comments per post\n",
      "02:00: 23.81 average comments per post\n",
      "20:00: 21.52 average comments per post\n",
      "16:00: 16.80 average comments per post\n",
      "21:00: 16.01 average comments per post\n"
     ]
    }
   ],
   "source": [
    "swap_avg_by_hour = []\n",
    "for row in avg_by_hour:\n",
    "    swap_avg_by_hour.append([row[1], row[0]])\n",
    "sorted_swap = sorted(swap_avg_by_hour, reverse=True)\n",
    "print(\"Top 5 Hours for Ask Posts Comments\")\n",
    "\n",
    "for row in sorted_swap[:5]:\n",
    "    print(\"{time}:00: {avg:.2f} average comments per post\".format(time = row[1], avg = row[0]))\n",
    "   \n"
   ]
  }
 ],
 "metadata": {
  "kernelspec": {
   "display_name": "Python 3",
   "language": "python",
   "name": "python3"
  },
  "language_info": {
   "codemirror_mode": {
    "name": "ipython",
    "version": 3
   },
   "file_extension": ".py",
   "mimetype": "text/x-python",
   "name": "python",
   "nbconvert_exporter": "python",
   "pygments_lexer": "ipython3",
   "version": "3.7.1"
  }
 },
 "nbformat": 4,
 "nbformat_minor": 2
}
